{
 "cells": [
  {
   "attachments": {},
   "cell_type": "markdown",
   "metadata": {},
   "source": [
    "# <span style=\"color:grey;font-weight:20px;\">Use this Notebook:</span>\n",
    "<span style=\"color:tomato;\">if</span> <span style=\"color:cyan;\">dataset</span><span style=\"color:grey;\">==</span><span style=\"color:green;\">video:</span><br>\n",
    "    <span style=\"color:orange;\">you want to convert that video to images</span>"
   ]
  },
  {
   "cell_type": "code",
   "execution_count": 1,
   "metadata": {},
   "outputs": [],
   "source": [
    "import os\n",
    "import cv2\n",
    "from IPython.display import clear_output"
   ]
  },
  {
   "cell_type": "code",
   "execution_count": 2,
   "metadata": {},
   "outputs": [
    {
     "data": {
      "text/plain": [
       "['padhastashan']"
      ]
     },
     "execution_count": 2,
     "metadata": {},
     "output_type": "execute_result"
    }
   ],
   "source": [
    "path=\"files\"\n",
    "class_names =os.listdir(path)\n",
    "class_names[1:2]"
   ]
  },
  {
   "cell_type": "code",
   "execution_count": 7,
   "metadata": {},
   "outputs": [
    {
     "name": "stdout",
     "output_type": "stream",
     "text": [
      "[WinError 183] Cannot create a file when that file already exists: 'images'\n",
      "working with class : padhastashan\n",
      "working with video : video_20230311_213210.mp4\n",
      "working with video : video_20230311_213225.mp4\n",
      "working with video : video_20230311_213241.mp4\n",
      "working with video : video_20230311_213259.mp4\n",
      "working with video : video_20230311_213324.mp4\n",
      "working with video : video_20230311_213334.mp4\n",
      "working with video : video_20230311_214031.mp4\n",
      "working with video : video_20230311_214041.mp4\n",
      "working with video : video_20230311_214056.mp4\n",
      "working with video : video_20230311_214104.mp4\n",
      "working with video : video_20230311_214144.mp4\n",
      "working with video : video_20230311_214204.mp4\n",
      "working with video : video_20230311_214217.mp4\n",
      "working with video : video_20230311_214229.mp4\n",
      "working with video : video_20230311_215254.mp4\n",
      "working with video : video_20230311_215302.mp4\n",
      "working with video : video_20230311_215314.mp4\n",
      "working with video : video_20230311_215323.mp4\n",
      "working with video : video_20230311_215349.mp4\n",
      "working with video : video_20230311_215358.mp4\n",
      "working with video : video_20230320_210844.mp4\n"
     ]
    }
   ],
   "source": [
    "img_path=\"images\"\n",
    "try:\n",
    "    os.mkdir(img_path)\n",
    "except WindowsError as error:\n",
    "    print(error)\n",
    "for class_name in class_names[1:2]:\n",
    "    try:\n",
    "        os.mkdir(f\"{img_path}/{class_name}\")\n",
    "    except WindowsError as error:\n",
    "        print(error)\n",
    "    videos=os.listdir(os.path.join(path,class_name))\n",
    "    print(\"working with class : {}\".format(class_name))\n",
    "    idx=1\n",
    "    for video in videos:\n",
    "        frame_num=1\n",
    "        video_path=os.path.join(path,class_name,video)\n",
    "        print(\"working with video : {}\".format(video))\n",
    "        cap=cv2.VideoCapture(video_path)\n",
    "        if class_name == \"padhastashan\":\n",
    "            while True:\n",
    "                ret,frame=cap.read()\n",
    "                if ret:\n",
    "                    frame=cv2.resize(frame, (450,450))\n",
    "                    if frame_num>300:\n",
    "                        cv2.imwrite(f\"{img_path}/{class_name}/{idx}.jpg\", frame)\n",
    "                        idx+=1\n",
    "                    frame_num+=1\n",
    "                else:\n",
    "                    break\n",
    "        else:\n",
    "            while True:\n",
    "                ret,frame=cap.read()\n",
    "                if ret:\n",
    "                    frame=cv2.resize(frame, (450,450))\n",
    "                    cv2.imwrite(f\"{img_path}/{class_name}/{idx}.jpg\", frame)\n",
    "                    idx+=1\n",
    "                else:\n",
    "                    break\n",
    "        cap.release()\n",
    "    clear_output(wait=True)      \n",
    "        "
   ]
  },
  {
   "cell_type": "code",
   "execution_count": null,
   "metadata": {},
   "outputs": [],
   "source": []
  }
 ],
 "metadata": {
  "kernelspec": {
   "display_name": "Python 3",
   "language": "python",
   "name": "python3"
  },
  "language_info": {
   "codemirror_mode": {
    "name": "ipython",
    "version": 3
   },
   "file_extension": ".py",
   "mimetype": "text/x-python",
   "name": "python",
   "nbconvert_exporter": "python",
   "pygments_lexer": "ipython3",
   "version": "3.10.2"
  },
  "orig_nbformat": 4
 },
 "nbformat": 4,
 "nbformat_minor": 2
}
