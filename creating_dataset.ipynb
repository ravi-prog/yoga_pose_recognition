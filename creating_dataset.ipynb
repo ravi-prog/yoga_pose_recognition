{
 "cells": [
  {
   "attachments": {},
   "cell_type": "markdown",
   "metadata": {},
   "source": [
    "# <span style=\"color:grey;font-weight:20px;\">Use this Notebook:</span>\n",
    "<span style=\"color:tomato;\">if</span> <span style=\"color:cyan;\">dataset</span><span style=\"color:grey;\">==</span><span style=\"color:green;\">video:</span><br>\n",
    "    <span style=\"color:orange;\">you want to convert that video to images</span>"
   ]
  },
  {
   "cell_type": "code",
   "execution_count": 1,
   "metadata": {},
   "outputs": [],
   "source": [
    "import os\n",
    "import cv2\n",
    "from IPython.display import clear_output"
   ]
  },
  {
   "cell_type": "code",
   "execution_count": 2,
   "metadata": {},
   "outputs": [
    {
     "data": {
      "text/plain": [
       "['ideal', 'padhastashan', 'padmasan', 'paschimotasan', 'tadasan', 'vajrasan']"
      ]
     },
     "execution_count": 2,
     "metadata": {},
     "output_type": "execute_result"
    }
   ],
   "source": [
    "path=\"files\"\n",
    "class_names =os.listdir(path)\n",
    "class_names"
   ]
  },
  {
   "cell_type": "code",
   "execution_count": 4,
   "metadata": {},
   "outputs": [
    {
     "name": "stdout",
     "output_type": "stream",
     "text": [
      "working with class : vajrasan\n",
      "working with video : video_20230311_212834.mp4\n",
      "working with video : video_20230311_212854.mp4\n",
      "working with video : video_20230311_212945.mp4\n",
      "working with video : video_20230311_213609.mp4\n",
      "working with video : video_20230311_213628.mp4\n",
      "working with video : video_20230311_213646.mp4\n",
      "working with video : video_20230311_213700.mp4\n",
      "working with video : video_20230311_214505.mp4\n",
      "working with video : video_20230311_214520.mp4\n",
      "working with video : video_20230311_214538.mp4\n",
      "working with video : video_20230311_214554.mp4\n",
      "working with video : video_20230311_215429.mp4\n",
      "working with video : video_20230311_215440.mp4\n",
      "working with video : video_20230311_215451.mp4\n",
      "working with video : video_20230311_215503.mp4\n",
      "working with video : video_20230320_210149.mp4\n"
     ]
    }
   ],
   "source": [
    "img_path=\"images\"\n",
    "try:\n",
    "    os.mkdir(img_path)\n",
    "except WindowsError as error:\n",
    "    print(error)\n",
    "for class_name in class_names:\n",
    "    try:\n",
    "        os.mkdir(f\"{img_path}/{class_name}\")\n",
    "    except WindowsError as error:\n",
    "        print(error)\n",
    "    videos=os.listdir(os.path.join(path,class_name))\n",
    "    print(\"working with class : {}\".format(class_name))\n",
    "    idx=1\n",
    "    for video in videos:\n",
    "        frame_num=1\n",
    "        video_path=os.path.join(path,class_name,video)\n",
    "        print(\"working with video : {}\".format(video))\n",
    "        cap=cv2.VideoCapture(video_path)\n",
    "        if class_name == \"padhastashan\":\n",
    "            while True:\n",
    "                ret,frame=cap.read()\n",
    "                if ret:\n",
    "                    frame=cv2.resize(frame, (450,450))\n",
    "                    if frame_num>100:\n",
    "                        cv2.imwrite(f\"{img_path}/{class_name}/{idx}.jpg\", frame)\n",
    "                        idx+=1\n",
    "                    frame_num\n",
    "                else:\n",
    "                    break\n",
    "        else:\n",
    "            while True:\n",
    "                ret,frame=cap.read()\n",
    "                if ret:\n",
    "                    frame=cv2.resize(frame, (450,450))\n",
    "                    cv2.imwrite(f\"{img_path}/{class_name}/{idx}.jpg\", frame)\n",
    "                    idx+=1\n",
    "                else:\n",
    "                    break\n",
    "        cap.release()\n",
    "    clear_output(wait=True)      \n",
    "        "
   ]
  },
  {
   "cell_type": "code",
   "execution_count": null,
   "metadata": {},
   "outputs": [],
   "source": []
  }
 ],
 "metadata": {
  "kernelspec": {
   "display_name": "Python 3",
   "language": "python",
   "name": "python3"
  },
  "language_info": {
   "codemirror_mode": {
    "name": "ipython",
    "version": 3
   },
   "file_extension": ".py",
   "mimetype": "text/x-python",
   "name": "python",
   "nbconvert_exporter": "python",
   "pygments_lexer": "ipython3",
   "version": "3.10.2"
  },
  "orig_nbformat": 4
 },
 "nbformat": 4,
 "nbformat_minor": 2
}
