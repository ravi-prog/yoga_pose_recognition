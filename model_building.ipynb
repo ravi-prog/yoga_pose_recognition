{
 "cells": [
  {
   "attachments": {},
   "cell_type": "markdown",
   "metadata": {},
   "source": [
    "# Import all the needed libraries"
   ]
  },
  {
   "cell_type": "code",
   "execution_count": 1,
   "metadata": {},
   "outputs": [],
   "source": [
    "import pickle\n",
    "import pandas as pd\n",
    "from sklearn.metrics import accuracy_score\n",
    "from sklearn.neighbors import KNeighborsClassifier\n",
    "from sklearn.preprocessing import LabelEncoder\n",
    "from sklearn.model_selection import train_test_split"
   ]
  },
  {
   "cell_type": "code",
   "execution_count": 2,
   "metadata": {},
   "outputs": [],
   "source": [
    "data=pd.read_csv(\"posture_dataset1.csv\")"
   ]
  },
  {
   "cell_type": "code",
   "execution_count": 3,
   "metadata": {},
   "outputs": [
    {
     "data": {
      "text/html": [
       "<div>\n",
       "<style scoped>\n",
       "    .dataframe tbody tr th:only-of-type {\n",
       "        vertical-align: middle;\n",
       "    }\n",
       "\n",
       "    .dataframe tbody tr th {\n",
       "        vertical-align: top;\n",
       "    }\n",
       "\n",
       "    .dataframe thead th {\n",
       "        text-align: right;\n",
       "    }\n",
       "</style>\n",
       "<table border=\"1\" class=\"dataframe\">\n",
       "  <thead>\n",
       "    <tr style=\"text-align: right;\">\n",
       "      <th></th>\n",
       "      <th>x1</th>\n",
       "      <th>y1</th>\n",
       "      <th>z1</th>\n",
       "      <th>visibility1</th>\n",
       "      <th>x2</th>\n",
       "      <th>y2</th>\n",
       "      <th>z2</th>\n",
       "      <th>visibility2</th>\n",
       "      <th>x3</th>\n",
       "      <th>y3</th>\n",
       "      <th>...</th>\n",
       "      <th>visibility31</th>\n",
       "      <th>x32</th>\n",
       "      <th>y32</th>\n",
       "      <th>z32</th>\n",
       "      <th>visibility32</th>\n",
       "      <th>x33</th>\n",
       "      <th>y33</th>\n",
       "      <th>z33</th>\n",
       "      <th>visibility33</th>\n",
       "      <th>class</th>\n",
       "    </tr>\n",
       "  </thead>\n",
       "  <tbody>\n",
       "    <tr>\n",
       "      <th>0</th>\n",
       "      <td>0.526979</td>\n",
       "      <td>0.215651</td>\n",
       "      <td>-0.371167</td>\n",
       "      <td>0.999859</td>\n",
       "      <td>0.537837</td>\n",
       "      <td>0.199298</td>\n",
       "      <td>-0.377579</td>\n",
       "      <td>0.999687</td>\n",
       "      <td>0.544499</td>\n",
       "      <td>0.198251</td>\n",
       "      <td>...</td>\n",
       "      <td>0.716221</td>\n",
       "      <td>0.481354</td>\n",
       "      <td>0.733442</td>\n",
       "      <td>-0.256744</td>\n",
       "      <td>0.972522</td>\n",
       "      <td>0.511089</td>\n",
       "      <td>0.737063</td>\n",
       "      <td>0.430146</td>\n",
       "      <td>0.765032</td>\n",
       "      <td>ideal</td>\n",
       "    </tr>\n",
       "    <tr>\n",
       "      <th>1</th>\n",
       "      <td>0.527961</td>\n",
       "      <td>0.215864</td>\n",
       "      <td>-0.309758</td>\n",
       "      <td>0.999900</td>\n",
       "      <td>0.538337</td>\n",
       "      <td>0.200721</td>\n",
       "      <td>-0.313213</td>\n",
       "      <td>0.999812</td>\n",
       "      <td>0.544930</td>\n",
       "      <td>0.199342</td>\n",
       "      <td>...</td>\n",
       "      <td>0.696630</td>\n",
       "      <td>0.479841</td>\n",
       "      <td>0.737587</td>\n",
       "      <td>-0.398248</td>\n",
       "      <td>0.968248</td>\n",
       "      <td>0.507638</td>\n",
       "      <td>0.744013</td>\n",
       "      <td>0.263450</td>\n",
       "      <td>0.737508</td>\n",
       "      <td>ideal</td>\n",
       "    </tr>\n",
       "    <tr>\n",
       "      <th>2</th>\n",
       "      <td>0.388633</td>\n",
       "      <td>0.192888</td>\n",
       "      <td>-0.546374</td>\n",
       "      <td>0.999629</td>\n",
       "      <td>0.400040</td>\n",
       "      <td>0.178190</td>\n",
       "      <td>-0.548626</td>\n",
       "      <td>0.999289</td>\n",
       "      <td>0.407342</td>\n",
       "      <td>0.177681</td>\n",
       "      <td>...</td>\n",
       "      <td>0.814470</td>\n",
       "      <td>0.561690</td>\n",
       "      <td>0.750069</td>\n",
       "      <td>0.236397</td>\n",
       "      <td>0.951375</td>\n",
       "      <td>0.282487</td>\n",
       "      <td>0.747879</td>\n",
       "      <td>0.355601</td>\n",
       "      <td>0.951253</td>\n",
       "      <td>ideal</td>\n",
       "    </tr>\n",
       "    <tr>\n",
       "      <th>3</th>\n",
       "      <td>0.513017</td>\n",
       "      <td>0.133044</td>\n",
       "      <td>-0.713667</td>\n",
       "      <td>0.999997</td>\n",
       "      <td>0.525164</td>\n",
       "      <td>0.118468</td>\n",
       "      <td>-0.693643</td>\n",
       "      <td>0.999991</td>\n",
       "      <td>0.532807</td>\n",
       "      <td>0.119421</td>\n",
       "      <td>...</td>\n",
       "      <td>0.915267</td>\n",
       "      <td>0.612529</td>\n",
       "      <td>0.645988</td>\n",
       "      <td>0.110452</td>\n",
       "      <td>0.981594</td>\n",
       "      <td>0.485275</td>\n",
       "      <td>0.649985</td>\n",
       "      <td>0.355935</td>\n",
       "      <td>0.978950</td>\n",
       "      <td>ideal</td>\n",
       "    </tr>\n",
       "    <tr>\n",
       "      <th>4</th>\n",
       "      <td>0.516914</td>\n",
       "      <td>0.135914</td>\n",
       "      <td>-0.593714</td>\n",
       "      <td>0.999996</td>\n",
       "      <td>0.529007</td>\n",
       "      <td>0.120782</td>\n",
       "      <td>-0.573212</td>\n",
       "      <td>0.999985</td>\n",
       "      <td>0.536367</td>\n",
       "      <td>0.121288</td>\n",
       "      <td>...</td>\n",
       "      <td>0.883493</td>\n",
       "      <td>0.616923</td>\n",
       "      <td>0.652251</td>\n",
       "      <td>0.031487</td>\n",
       "      <td>0.980807</td>\n",
       "      <td>0.483134</td>\n",
       "      <td>0.654687</td>\n",
       "      <td>0.197092</td>\n",
       "      <td>0.976042</td>\n",
       "      <td>ideal</td>\n",
       "    </tr>\n",
       "  </tbody>\n",
       "</table>\n",
       "<p>5 rows × 133 columns</p>\n",
       "</div>"
      ],
      "text/plain": [
       "         x1        y1        z1  visibility1        x2        y2        z2  \\\n",
       "0  0.526979  0.215651 -0.371167     0.999859  0.537837  0.199298 -0.377579   \n",
       "1  0.527961  0.215864 -0.309758     0.999900  0.538337  0.200721 -0.313213   \n",
       "2  0.388633  0.192888 -0.546374     0.999629  0.400040  0.178190 -0.548626   \n",
       "3  0.513017  0.133044 -0.713667     0.999997  0.525164  0.118468 -0.693643   \n",
       "4  0.516914  0.135914 -0.593714     0.999996  0.529007  0.120782 -0.573212   \n",
       "\n",
       "   visibility2        x3        y3  ...  visibility31       x32       y32  \\\n",
       "0     0.999687  0.544499  0.198251  ...      0.716221  0.481354  0.733442   \n",
       "1     0.999812  0.544930  0.199342  ...      0.696630  0.479841  0.737587   \n",
       "2     0.999289  0.407342  0.177681  ...      0.814470  0.561690  0.750069   \n",
       "3     0.999991  0.532807  0.119421  ...      0.915267  0.612529  0.645988   \n",
       "4     0.999985  0.536367  0.121288  ...      0.883493  0.616923  0.652251   \n",
       "\n",
       "        z32  visibility32       x33       y33       z33  visibility33  class  \n",
       "0 -0.256744      0.972522  0.511089  0.737063  0.430146      0.765032  ideal  \n",
       "1 -0.398248      0.968248  0.507638  0.744013  0.263450      0.737508  ideal  \n",
       "2  0.236397      0.951375  0.282487  0.747879  0.355601      0.951253  ideal  \n",
       "3  0.110452      0.981594  0.485275  0.649985  0.355935      0.978950  ideal  \n",
       "4  0.031487      0.980807  0.483134  0.654687  0.197092      0.976042  ideal  \n",
       "\n",
       "[5 rows x 133 columns]"
      ]
     },
     "execution_count": 3,
     "metadata": {},
     "output_type": "execute_result"
    }
   ],
   "source": [
    "data.head()"
   ]
  },
  {
   "cell_type": "code",
   "execution_count": 4,
   "metadata": {},
   "outputs": [],
   "source": [
    "column_names = data.columns"
   ]
  },
  {
   "cell_type": "code",
   "execution_count": 5,
   "metadata": {},
   "outputs": [],
   "source": [
    "X=data.iloc[:,:-1].values\n",
    "Y=data.iloc[:,-1:].values.ravel()"
   ]
  },
  {
   "attachments": {},
   "cell_type": "markdown",
   "metadata": {},
   "source": [
    "Transforming the labels to numerical"
   ]
  },
  {
   "cell_type": "code",
   "execution_count": 6,
   "metadata": {},
   "outputs": [],
   "source": [
    "le=LabelEncoder()\n",
    "encoded_labels=le.fit_transform(Y)"
   ]
  },
  {
   "cell_type": "code",
   "execution_count": 7,
   "metadata": {},
   "outputs": [
    {
     "data": {
      "text/plain": [
       "((15442, 132), (15442,))"
      ]
     },
     "execution_count": 7,
     "metadata": {},
     "output_type": "execute_result"
    }
   ],
   "source": [
    "X.shape,encoded_labels.shape"
   ]
  },
  {
   "attachments": {},
   "cell_type": "markdown",
   "metadata": {},
   "source": [
    "Spliting the train and test data"
   ]
  },
  {
   "cell_type": "code",
   "execution_count": 8,
   "metadata": {},
   "outputs": [],
   "source": [
    "X_train,X_test,y_train,y_test=train_test_split(X,encoded_labels,random_state=42,test_size=0.25)"
   ]
  },
  {
   "cell_type": "markdown",
   "metadata": {},
   "source": [
    "Creating an object for model"
   ]
  },
  {
   "cell_type": "code",
   "execution_count": 9,
   "metadata": {},
   "outputs": [],
   "source": [
    "KNN=KNeighborsClassifier(n_neighbors=5,p=2)"
   ]
  },
  {
   "cell_type": "code",
   "execution_count": 10,
   "metadata": {},
   "outputs": [
    {
     "data": {
      "text/html": [
       "<style>#sk-container-id-1 {color: black;background-color: white;}#sk-container-id-1 pre{padding: 0;}#sk-container-id-1 div.sk-toggleable {background-color: white;}#sk-container-id-1 label.sk-toggleable__label {cursor: pointer;display: block;width: 100%;margin-bottom: 0;padding: 0.3em;box-sizing: border-box;text-align: center;}#sk-container-id-1 label.sk-toggleable__label-arrow:before {content: \"▸\";float: left;margin-right: 0.25em;color: #696969;}#sk-container-id-1 label.sk-toggleable__label-arrow:hover:before {color: black;}#sk-container-id-1 div.sk-estimator:hover label.sk-toggleable__label-arrow:before {color: black;}#sk-container-id-1 div.sk-toggleable__content {max-height: 0;max-width: 0;overflow: hidden;text-align: left;background-color: #f0f8ff;}#sk-container-id-1 div.sk-toggleable__content pre {margin: 0.2em;color: black;border-radius: 0.25em;background-color: #f0f8ff;}#sk-container-id-1 input.sk-toggleable__control:checked~div.sk-toggleable__content {max-height: 200px;max-width: 100%;overflow: auto;}#sk-container-id-1 input.sk-toggleable__control:checked~label.sk-toggleable__label-arrow:before {content: \"▾\";}#sk-container-id-1 div.sk-estimator input.sk-toggleable__control:checked~label.sk-toggleable__label {background-color: #d4ebff;}#sk-container-id-1 div.sk-label input.sk-toggleable__control:checked~label.sk-toggleable__label {background-color: #d4ebff;}#sk-container-id-1 input.sk-hidden--visually {border: 0;clip: rect(1px 1px 1px 1px);clip: rect(1px, 1px, 1px, 1px);height: 1px;margin: -1px;overflow: hidden;padding: 0;position: absolute;width: 1px;}#sk-container-id-1 div.sk-estimator {font-family: monospace;background-color: #f0f8ff;border: 1px dotted black;border-radius: 0.25em;box-sizing: border-box;margin-bottom: 0.5em;}#sk-container-id-1 div.sk-estimator:hover {background-color: #d4ebff;}#sk-container-id-1 div.sk-parallel-item::after {content: \"\";width: 100%;border-bottom: 1px solid gray;flex-grow: 1;}#sk-container-id-1 div.sk-label:hover label.sk-toggleable__label {background-color: #d4ebff;}#sk-container-id-1 div.sk-serial::before {content: \"\";position: absolute;border-left: 1px solid gray;box-sizing: border-box;top: 0;bottom: 0;left: 50%;z-index: 0;}#sk-container-id-1 div.sk-serial {display: flex;flex-direction: column;align-items: center;background-color: white;padding-right: 0.2em;padding-left: 0.2em;position: relative;}#sk-container-id-1 div.sk-item {position: relative;z-index: 1;}#sk-container-id-1 div.sk-parallel {display: flex;align-items: stretch;justify-content: center;background-color: white;position: relative;}#sk-container-id-1 div.sk-item::before, #sk-container-id-1 div.sk-parallel-item::before {content: \"\";position: absolute;border-left: 1px solid gray;box-sizing: border-box;top: 0;bottom: 0;left: 50%;z-index: -1;}#sk-container-id-1 div.sk-parallel-item {display: flex;flex-direction: column;z-index: 1;position: relative;background-color: white;}#sk-container-id-1 div.sk-parallel-item:first-child::after {align-self: flex-end;width: 50%;}#sk-container-id-1 div.sk-parallel-item:last-child::after {align-self: flex-start;width: 50%;}#sk-container-id-1 div.sk-parallel-item:only-child::after {width: 0;}#sk-container-id-1 div.sk-dashed-wrapped {border: 1px dashed gray;margin: 0 0.4em 0.5em 0.4em;box-sizing: border-box;padding-bottom: 0.4em;background-color: white;}#sk-container-id-1 div.sk-label label {font-family: monospace;font-weight: bold;display: inline-block;line-height: 1.2em;}#sk-container-id-1 div.sk-label-container {text-align: center;}#sk-container-id-1 div.sk-container {/* jupyter's `normalize.less` sets `[hidden] { display: none; }` but bootstrap.min.css set `[hidden] { display: none !important; }` so we also need the `!important` here to be able to override the default hidden behavior on the sphinx rendered scikit-learn.org. See: https://github.com/scikit-learn/scikit-learn/issues/21755 */display: inline-block !important;position: relative;}#sk-container-id-1 div.sk-text-repr-fallback {display: none;}</style><div id=\"sk-container-id-1\" class=\"sk-top-container\"><div class=\"sk-text-repr-fallback\"><pre>KNeighborsClassifier()</pre><b>In a Jupyter environment, please rerun this cell to show the HTML representation or trust the notebook. <br />On GitHub, the HTML representation is unable to render, please try loading this page with nbviewer.org.</b></div><div class=\"sk-container\" hidden><div class=\"sk-item\"><div class=\"sk-estimator sk-toggleable\"><input class=\"sk-toggleable__control sk-hidden--visually\" id=\"sk-estimator-id-1\" type=\"checkbox\" checked><label for=\"sk-estimator-id-1\" class=\"sk-toggleable__label sk-toggleable__label-arrow\">KNeighborsClassifier</label><div class=\"sk-toggleable__content\"><pre>KNeighborsClassifier()</pre></div></div></div></div></div>"
      ],
      "text/plain": [
       "KNeighborsClassifier()"
      ]
     },
     "execution_count": 10,
     "metadata": {},
     "output_type": "execute_result"
    }
   ],
   "source": [
    "# training the model\n",
    "KNN.fit(X_train,y_train)"
   ]
  },
  {
   "cell_type": "code",
   "execution_count": 11,
   "metadata": {},
   "outputs": [],
   "source": [
    "y_predict=KNN.predict(X_test)"
   ]
  },
  {
   "cell_type": "code",
   "execution_count": 12,
   "metadata": {},
   "outputs": [
    {
     "data": {
      "text/plain": [
       "0.9955969955969955"
      ]
     },
     "execution_count": 12,
     "metadata": {},
     "output_type": "execute_result"
    }
   ],
   "source": [
    "accuracy_score(y_test,y_predict)"
   ]
  },
  {
   "attachments": {},
   "cell_type": "markdown",
   "metadata": {},
   "source": [
    "serializing the model using pickle so we can use it anywhere"
   ]
  },
  {
   "cell_type": "code",
   "execution_count": 13,
   "metadata": {},
   "outputs": [],
   "source": [
    "pickle.dump(KNN,open(\"KNN_POSTURE_MODEL.pkl\",\"wb\"))"
   ]
  }
 ],
 "metadata": {
  "kernelspec": {
   "display_name": "Python 3",
   "language": "python",
   "name": "python3"
  },
  "language_info": {
   "codemirror_mode": {
    "name": "ipython",
    "version": 3
   },
   "file_extension": ".py",
   "mimetype": "text/x-python",
   "name": "python",
   "nbconvert_exporter": "python",
   "pygments_lexer": "ipython3",
   "version": "3.10.2"
  },
  "orig_nbformat": 4
 },
 "nbformat": 4,
 "nbformat_minor": 2
}
